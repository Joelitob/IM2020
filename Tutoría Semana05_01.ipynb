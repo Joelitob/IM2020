{
 "cells": [
  {
   "cell_type": "code",
   "execution_count": 1,
   "metadata": {},
   "outputs": [],
   "source": [
    "# Ejercicio:\n",
    "# Dado el sueldo de un trabajador, en cualquier caso se aplica un descuento del 13% sin embargo si un trabajador \n",
    "# recibe una remuneración mayor o igual a 3500 se le aplica un descuento adicional del 7%.\n",
    "# ¿Cuánto será el total a pagar a un trabajador? Ingresar el sueldo por el teclado "
   ]
  },
  {
   "cell_type": "code",
   "execution_count": 12,
   "metadata": {},
   "outputs": [
    {
     "name": "stdout",
     "output_type": "stream",
     "text": [
      "Ingresar Sueldo: 1000\n",
      "Sueldo Base: 1000.0\n",
      "Desc 01: 870.0\n",
      "Total a Pagar: 870.0\n"
     ]
    }
   ],
   "source": [
    "SueldoInicial = float(input(\"Ingresar Sueldo: \"))\n",
    "TotalPagar = SueldoInicial * 0.87\n",
    "print(f\"Sueldo Base: {SueldoInicial}\")\n",
    "print(f\"Desc 01: { SueldoInicial * 0.87}\")\n",
    "\n",
    "if SueldoInicial >= 3500:\n",
    "    TotalPagar = TotalPagar - (SueldoInicial*0.07)\n",
    "    print(f\"Desc 02: {SueldoInicial*0.07}\")\n",
    "print(f\"Total a Pagar: {TotalPagar}\")\n",
    "\n"
   ]
  },
  {
   "cell_type": "code",
   "execution_count": 13,
   "metadata": {},
   "outputs": [],
   "source": [
    "# if-else\n",
    "# Diseñar un programa que muestre si un numero ingresado por el teclado es par o impar.\n"
   ]
  },
  {
   "cell_type": "code",
   "execution_count": 23,
   "metadata": {},
   "outputs": [
    {
     "name": "stdout",
     "output_type": "stream",
     "text": [
      "numero: 41\n",
      "impar\n"
     ]
    }
   ],
   "source": [
    "numero = int(input(\"numero: \"))\n",
    "if numero%2 == 0:\n",
    "    print(\"Par\")\n",
    "else:\n",
    "    print(\"impar\")"
   ]
  },
  {
   "cell_type": "code",
   "execution_count": null,
   "metadata": {},
   "outputs": [],
   "source": []
  }
 ],
 "metadata": {
  "kernelspec": {
   "display_name": "Python 3",
   "language": "python",
   "name": "python3"
  },
  "language_info": {
   "codemirror_mode": {
    "name": "ipython",
    "version": 3
   },
   "file_extension": ".py",
   "mimetype": "text/x-python",
   "name": "python",
   "nbconvert_exporter": "python",
   "pygments_lexer": "ipython3",
   "version": "3.7.6"
  }
 },
 "nbformat": 4,
 "nbformat_minor": 4
}

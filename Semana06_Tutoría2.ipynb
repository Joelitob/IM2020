{
 "cells": [
  {
   "cell_type": "code",
   "execution_count": 1,
   "metadata": {},
   "outputs": [
    {
     "name": "stdout",
     "output_type": "stream",
     "text": [
      "Ingrese a: 4\n",
      "Ingrese b: 8\n",
      "4\n",
      "5\n",
      "6\n",
      "7\n",
      "8\n"
     ]
    }
   ],
   "source": [
    "# Generar los número de [a , b]. Donde, a y b son ingresado por el teclado\n",
    "A = int(input(\"Ingrese a: \"))\n",
    "B = int(input(\"Ingrese b: \"))\n",
    "\n",
    "for numero in range(A,B+1):\n",
    "    print(numero)"
   ]
  },
  {
   "cell_type": "code",
   "execution_count": 2,
   "metadata": {},
   "outputs": [
    {
     "name": "stdout",
     "output_type": "stream",
     "text": [
      "Ingrese A: 4\n",
      "Ingrese B: 25\n",
      "4\n",
      "5\n",
      "6\n",
      "7\n",
      "8\n",
      "9\n",
      "10\n",
      "11\n",
      "12\n",
      "13\n",
      "14\n",
      "15\n",
      "16\n",
      "17\n",
      "18\n",
      "19\n",
      "20\n",
      "21\n",
      "22\n",
      "23\n",
      "24\n",
      "25\n"
     ]
    }
   ],
   "source": [
    "# Ejercicios\n",
    "a = int(input(\"Ingrese A: \"))\n",
    "b = int(input(\"Ingrese B: \"))\n",
    "if(a>b):\n",
    "    temp = a\n",
    "    a = b\n",
    "    b = temp\n",
    "for numero in range(a,b+1):\n",
    "    print(numero)"
   ]
  },
  {
   "cell_type": "code",
   "execution_count": 4,
   "metadata": {},
   "outputs": [
    {
     "name": "stdout",
     "output_type": "stream",
     "text": [
      "N: 4\n",
      " 0\n",
      " 1\n",
      " 1\n",
      " 2\n",
      " 3\n"
     ]
    }
   ],
   "source": [
    "# Mostrar la secuencia (Serie Fibonacci) de números: 0 1 1 2 3 5 8 13 de todos los números menores a N, donde N, es ingresado por el teclado.\n",
    "a = 0\n",
    "b = 1\n",
    "# c\n",
    "N = int(input(\"N: \"))\n",
    "while(a<=N):\n",
    "    print(f\" {a}\")\n",
    "    c = a + b\n",
    "    a = b\n",
    "    b = c\n",
    "    "
   ]
  },
  {
   "cell_type": "code",
   "execution_count": 5,
   "metadata": {},
   "outputs": [
    {
     "name": "stdout",
     "output_type": "stream",
     "text": [
      "a\n",
      "5\n",
      "5\n",
      "a = 5\n"
     ]
    }
   ],
   "source": [
    "# Recordando\n",
    "a=5\n",
    "#Caso 1\n",
    "print(\"a\")\n",
    "\n",
    "#Caso 2\n",
    "print(a)\n",
    "\n",
    "# Caso 3\n",
    "print(f\"{a}\")\n",
    "\n",
    "# Caso 4\n",
    "print(f\"a = {a}\")"
   ]
  },
  {
   "cell_type": "code",
   "execution_count": 8,
   "metadata": {},
   "outputs": [
    {
     "name": "stdout",
     "output_type": "stream",
     "text": [
      "N: 50\n",
      " 0\n",
      " 1\n",
      " 1\n",
      " 2\n",
      " 3\n",
      " 5\n",
      " 8\n",
      " 13\n",
      " 21\n",
      " 34\n",
      " 55\n",
      " 89\n",
      " 144\n",
      " 233\n",
      " 377\n",
      " 610\n",
      " 987\n",
      " 1597\n",
      " 2584\n",
      " 4181\n",
      " 6765\n",
      " 10946\n",
      " 17711\n",
      " 28657\n",
      " 46368\n",
      " 75025\n",
      " 121393\n",
      " 196418\n",
      " 317811\n",
      " 514229\n",
      " 832040\n",
      " 1346269\n",
      " 2178309\n",
      " 3524578\n",
      " 5702887\n",
      " 9227465\n",
      " 14930352\n",
      " 24157817\n",
      " 39088169\n",
      " 63245986\n",
      " 102334155\n",
      " 165580141\n",
      " 267914296\n",
      " 433494437\n",
      " 701408733\n",
      " 1134903170\n",
      " 1836311903\n",
      " 2971215073\n",
      " 4807526976\n",
      " 7778742049\n"
     ]
    }
   ],
   "source": [
    "# Estructuras for\n",
    "# Mostrar la secuencia (Serie Fibonacci) de números: 0 1 1 2 3 5 8 13 de todos los números menores a N, donde N, es ingresado por el teclado.\n",
    "a = 0\n",
    "b = 1\n",
    "c = 0\n",
    "N = int(input(\"N: \"))\n",
    "\n",
    "for i in range(N):\n",
    "    print(f\" {c}\")\n",
    "    a = b\n",
    "    b = c\n",
    "    c = a + b\n"
   ]
  }
 ],
 "metadata": {
  "kernelspec": {
   "display_name": "Python 3",
   "language": "python",
   "name": "python3"
  },
  "language_info": {
   "codemirror_mode": {
    "name": "ipython",
    "version": 3
   },
   "file_extension": ".py",
   "mimetype": "text/x-python",
   "name": "python",
   "nbconvert_exporter": "python",
   "pygments_lexer": "ipython3",
   "version": "3.7.6"
  }
 },
 "nbformat": 4,
 "nbformat_minor": 4
}

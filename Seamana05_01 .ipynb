{
 "cells": [
  {
   "cell_type": "markdown",
   "metadata": {},
   "source": [
    "# SEMANA 5\n",
    "Flor Elizabeth Cerdán León"
   ]
  },
  {
   "cell_type": "markdown",
   "metadata": {},
   "source": [
    "Temas\n",
    "1. colecciones de datos\n",
    "2. Estructuras decisivas y estructuras repetitivas\n",
    "3. Funciones\n",
    "4. Clases y objetos"
   ]
  },
  {
   "cell_type": "markdown",
   "metadata": {},
   "source": [
    "2. Estructuras Decisivas(if, elif,else)"
   ]
  },
  {
   "cell_type": "code",
   "execution_count": 2,
   "metadata": {},
   "outputs": [],
   "source": [
    "# if\n",
    "# Problema: Dado el precio de 3 productos ingresados por el teclado, aplicar un descuento del 10% si la \n",
    "# venta es mayor o igual a 1000"
   ]
  },
  {
   "cell_type": "code",
   "execution_count": 3,
   "metadata": {},
   "outputs": [
    {
     "name": "stdout",
     "output_type": "stream",
     "text": [
      "Producto 1: 960\n",
      "Producto 2: 456\n",
      "Producto 3: 2587\n",
      "El total a pagar es: 3602.7000000000003\n"
     ]
    }
   ],
   "source": [
    "P1 = float(input(\"Producto 1: \"))\n",
    "P2 = float(input(\"Producto 2: \"))\n",
    "P3 = float(input(\"Producto 3: \"))\n",
    "total = P1 + P2 + P3\n",
    "if total>=1000:\n",
    "    total *= 0.9\n",
    "print(f\"El total a pagar es: {total}\")\n"
   ]
  },
  {
   "cell_type": "code",
   "execution_count": 4,
   "metadata": {},
   "outputs": [],
   "source": [
    "# if-else"
   ]
  },
  {
   "cell_type": "code",
   "execution_count": 5,
   "metadata": {},
   "outputs": [],
   "source": [
    "# Pronlema01(Recordando)\n",
    "# Dado una lista [\"Apaza\", \"Arteaga\", \"Barros\", \"Briones\", \"Correa\", \"De Mello\", \"Delgado\", \"Diaz\", \"Freire\",\"Frisancho\", \"Gallardo\", \"Ginez\", \"Huillca\", \"Lanza\", \"Lima\", \"Lindo\", \"Lizano\", \"Lizano\", \"Miguel\", \"Prada\", \"Quispe\", \"Reyes\", \"Robles\", \"Rojas\", \"Trejo\",  \"Tunco\",  \"Villalba\", \"Yalle\"]\n",
    "# Diseñar un código que muestre si el apellido de un estudiante(Ingresado por teclado) forma parte de la lista"
   ]
  },
  {
   "cell_type": "code",
   "execution_count": 12,
   "metadata": {},
   "outputs": [
    {
     "name": "stdout",
     "output_type": "stream",
     "text": [
      "Ingresar nombre a buscar: Trejo\n",
      "Si está en la lista de PIM\n"
     ]
    }
   ],
   "source": [
    "# Solución\n",
    "PIM = [\"Apaza\", \"Arteaga\", \"Barros\", \"Briones\", \"Correa\", \"De Mello\", \"Delgado\", \"Diaz\", \"Freire\",\"Frisancho\",\n",
    "       \"Gallardo\", \"Ginez\", \"Huillca\", \"Lanza\", \"Lima\", \"Lindo\", \"Lizano\", \n",
    "       \"Lizano\", \"Miguel\", \"Prada\", \"Quispe\", \"Reyes\", \"Robles\", \"Rojas\", \"Trejo\",  \"Tunco\",  \"Villalba\", \"Yalle\"]\n",
    "apellido = input(\"Ingresar nombre a buscar: \")\n",
    "if apellido in PIM:\n",
    "    print(\"Si está en la lista de PIM\")\n",
    "else:\n",
    "    print(\"No está en la lista de PIM\")\n"
   ]
  },
  {
   "cell_type": "code",
   "execution_count": 13,
   "metadata": {},
   "outputs": [],
   "source": [
    "# Problema 02\n",
    "# Dado el importe total de ventas realizadas por un trabajador (ingreso por teclado)\n",
    "# Categorizar que tipo de empleado es, considerando la siguiente tabla:\n",
    "# Categoria: A -> [0, 1000]\n",
    "# Categoria: B -> <1000,2000] \n",
    "# Categoria: C -> <2000, 5000]\n",
    "# Categoria: D -> <5000, Mas]\n"
   ]
  },
  {
   "cell_type": "code",
   "execution_count": 16,
   "metadata": {},
   "outputs": [
    {
     "name": "stdout",
     "output_type": "stream",
     "text": [
      "Importe deventas realizadas: 2500\n",
      "Categoria C\n"
     ]
    }
   ],
   "source": [
    "# Solución\n",
    "ventas = float(input(\"Importe deventas realizadas: \"))\n",
    "if ventas < 0:\n",
    "    print(\"Datos errones\")\n",
    "else:\n",
    "    if ventas<=1000:\n",
    "        print(\"Categoria A\")\n",
    "    else:\n",
    "        if ventas <=2000:\n",
    "            print(\"Categoria B\")\n",
    "        else:\n",
    "            if ventas <= 5000:\n",
    "                print(\"Categoria C\")\n",
    "            else:\n",
    "                print(\"Categoria D\")"
   ]
  },
  {
   "cell_type": "code",
   "execution_count": 17,
   "metadata": {},
   "outputs": [],
   "source": [
    "# elif\n",
    "# Problema 03, solucionar el problema anterior utilizamos elif\n",
    "\n",
    "# Dado el importe total de ventas realizadas por un trabajador (ingreso por teclado)\n",
    "# Categorizar que tipo de empleado es, considerando la siguiente tabla:\n",
    "# Categoria: A -> [0, 1000]\n",
    "# Categoria: B -> <1000,2000] \n",
    "# Categoria: C -> <2000, 5000]\n",
    "# Categoria: D -> <5000, Mas]\n"
   ]
  },
  {
   "cell_type": "code",
   "execution_count": 20,
   "metadata": {},
   "outputs": [
    {
     "name": "stdout",
     "output_type": "stream",
     "text": [
      "Importe de ventas realizadas: 2500\n",
      "Categoria C\n"
     ]
    }
   ],
   "source": [
    "# Solución\n",
    "\n",
    "ventas = float(input(\"Importe de ventas realizadas: \"))\n",
    "if ventas<0:\n",
    "    print(\"Datos erroneos\")\n",
    "elif ventas<=1000:\n",
    "    print(\"Categoria A\")\n",
    "elif ventas <=2000:\n",
    "    print(\"Categoria B\")\n",
    "elif ventas <= 5000:\n",
    "    print(\"Categoria C\")\n",
    "else:\n",
    "    print(\"Categoria D\")"
   ]
  },
  {
   "cell_type": "code",
   "execution_count": 21,
   "metadata": {},
   "outputs": [],
   "source": [
    "# 2.2 Estructuras repetitivas"
   ]
  },
  {
   "cell_type": "code",
   "execution_count": 22,
   "metadata": {},
   "outputs": [],
   "source": [
    "# for"
   ]
  },
  {
   "cell_type": "code",
   "execution_count": 23,
   "metadata": {},
   "outputs": [],
   "source": [
    "# Problema 1:\n",
    "# Mostrar los elementos de una lista utilizando for"
   ]
  },
  {
   "cell_type": "code",
   "execution_count": 24,
   "metadata": {},
   "outputs": [
    {
     "name": "stdout",
     "output_type": "stream",
     "text": [
      "Bernaola\n",
      "Chipana\n",
      "Gomez\n",
      "Navarro\n"
     ]
    }
   ],
   "source": [
    "# solución\n",
    "aula = ['Bernaola', 'Chipana', 'Gomez', 'Navarro']\n",
    "# Por cada alumno que está en la lista, imprimir alumno\n",
    "for alumno in aula:\n",
    "    print(alumno)"
   ]
  },
  {
   "cell_type": "code",
   "execution_count": 25,
   "metadata": {},
   "outputs": [],
   "source": [
    "# Problema 02:\n",
    "# Dado una cadena ingresado por teclado, mostrar cada caracter de la cadena, utilizando la estructura for"
   ]
  },
  {
   "cell_type": "code",
   "execution_count": 26,
   "metadata": {},
   "outputs": [
    {
     "name": "stdout",
     "output_type": "stream",
     "text": [
      "Ingrese cadena: En todo tiempo ama el amigo. Prov 17:17\n",
      "E\n",
      "n\n",
      " \n",
      "t\n",
      "o\n",
      "d\n",
      "o\n",
      " \n",
      "t\n",
      "i\n",
      "e\n",
      "m\n",
      "p\n",
      "o\n",
      " \n",
      "a\n",
      "m\n",
      "a\n",
      " \n",
      "e\n",
      "l\n",
      " \n",
      "a\n",
      "m\n",
      "i\n",
      "g\n",
      "o\n",
      ".\n",
      " \n",
      "P\n",
      "r\n",
      "o\n",
      "v\n",
      " \n",
      "1\n",
      "7\n",
      ":\n",
      "1\n",
      "7\n"
     ]
    }
   ],
   "source": [
    "cadena = input(\"Ingrese cadena: \")\n",
    "for caracter in cadena:\n",
    "    print(caracter)"
   ]
  },
  {
   "cell_type": "code",
   "execution_count": null,
   "metadata": {},
   "outputs": [],
   "source": []
  }
 ],
 "metadata": {
  "kernelspec": {
   "display_name": "Python 3",
   "language": "python",
   "name": "python3"
  },
  "language_info": {
   "codemirror_mode": {
    "name": "ipython",
    "version": 3
   },
   "file_extension": ".py",
   "mimetype": "text/x-python",
   "name": "python",
   "nbconvert_exporter": "python",
   "pygments_lexer": "ipython3",
   "version": "3.7.6"
  }
 },
 "nbformat": 4,
 "nbformat_minor": 4
}
